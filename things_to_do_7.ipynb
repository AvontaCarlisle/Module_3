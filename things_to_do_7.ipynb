{
 "cells": [
  {
   "cell_type": "code",
   "execution_count": 23,
   "metadata": {},
   "outputs": [
    {
     "name": "stdout",
     "output_type": "stream",
     "text": [
      "['mozzarella', 'Cinderela', 'salmonella']\n",
      "['MOZZARELLA', 'Cinderela', 'salmonella']\n",
      "['MOZZARELLA', 'Cinderela', 'nobel prize']\n"
     ]
    }
   ],
   "source": [
    "# 7.4\n",
    "\n",
    "# make list\n",
    "things = ['mozzarella', 'cinderela', 'salmonella']\n",
    "\n",
    "#7.5\n",
    "\n",
    "# Capitalize person name in list\n",
    "things[1] = things[1].title()\n",
    "print(things)\n",
    "\n",
    "#7.6\n",
    "# Make cheesy element all uppercase\n",
    "things[0] = things[0].upper()\n",
    "print(things)\n",
    "\n",
    "#7.7\n",
    "# Delete disease element and add Nobel Prize\n",
    "\n",
    "del(things[2])\n",
    "things.append(\"nobel prize\")\n",
    "print(things)\n",
    "\n"
   ]
  },
  {
   "cell_type": "code",
   "execution_count": 25,
   "metadata": {},
   "outputs": [
    {
     "name": "stdout",
     "output_type": "stream",
     "text": [
      "['Harry', 'Ron', 'Hermione']\n"
     ]
    }
   ],
   "source": [
    "#9.1\n",
    "\n",
    "def good(list):\n",
    "    print(list)\n",
    "\n",
    "my_list = ['Harry', 'Ron', 'Hermione']\n",
    "\n",
    "good(my_list)\n",
    "\n",
    "#9.2"
   ]
  }
 ],
 "metadata": {
  "kernelspec": {
   "display_name": "Python 3",
   "language": "python",
   "name": "python3"
  },
  "language_info": {
   "codemirror_mode": {
    "name": "ipython",
    "version": 3
   },
   "file_extension": ".py",
   "mimetype": "text/x-python",
   "name": "python",
   "nbconvert_exporter": "python",
   "pygments_lexer": "ipython3",
   "version": "3.12.5"
  }
 },
 "nbformat": 4,
 "nbformat_minor": 2
}
